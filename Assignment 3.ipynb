{
 "cells": [
  {
   "cell_type": "code",
   "execution_count": 3,
   "id": "f9289380",
   "metadata": {},
   "outputs": [
    {
     "name": "stdout",
     "output_type": "stream",
     "text": [
      "Twinkle, twinkle, little star,\n",
      "\tHow I wonder what you are!\n",
      "\t\tUp above the world so high,\n",
      "\t\tLike a diamond in the sky.\n",
      "Twinkle, twinkle, little star,\n",
      "How I wonder what you are\n"
     ]
    }
   ],
   "source": [
    "''' Question 1\n",
    "Write a Python program to print the following string in a specific format (see the\n",
    "output).\n",
    "\n",
    "Twinkle, twinkle, little star,\n",
    "How I wonder what you are!\n",
    "Up above the world so high,\n",
    "Like a diamond in the sky.\n",
    "\n",
    "Twinkle, twinkle, little star,\n",
    "How I wonder what you are\n",
    "'''\n",
    "print(\"Twinkle, twinkle, little star,\");\n",
    "print(\"\\tHow I wonder what you are!\");\n",
    "print(\"\\t\\tUp above the world so high,\");\n",
    "print(\"\\t\\tLike a diamond in the sky.\");\n",
    "print(\"Twinkle, twinkle, little star,\");\n",
    "print(\"How I wonder what you are\");\n"
   ]
  },
  {
   "cell_type": "code",
   "execution_count": 4,
   "id": "f19512c6",
   "metadata": {},
   "outputs": [
    {
     "name": "stdout",
     "output_type": "stream",
     "text": [
      "3.8.8 (default, Apr 13 2021, 15:08:03) [MSC v.1916 64 bit (AMD64)]\n"
     ]
    }
   ],
   "source": [
    "''' Question 2\n",
    "Write a Python program to get the Python version you are using\n",
    "'''\n",
    "import sys\n",
    "print(sys.version);"
   ]
  },
  {
   "cell_type": "code",
   "execution_count": 5,
   "id": "a36770cc",
   "metadata": {},
   "outputs": [
    {
     "name": "stdout",
     "output_type": "stream",
     "text": [
      "Current date and time : \n",
      "2021-10-23 16:38:31.682452\n"
     ]
    }
   ],
   "source": [
    "''' Question 3\n",
    "Write a Python program to display the current date and time.\n",
    "'''\n",
    "import datetime;\n",
    "now = datetime.datetime.now();\n",
    "print (\"Current date and time : \");\n",
    "print (now);"
   ]
  },
  {
   "cell_type": "code",
   "execution_count": 6,
   "id": "c9312621",
   "metadata": {},
   "outputs": [
    {
     "name": "stdout",
     "output_type": "stream",
     "text": [
      "Input the radius of the circle : 5\n",
      "The area of the circle is 78.5\n"
     ]
    }
   ],
   "source": [
    "'''Question 4\n",
    "Write a Python program which accepts the radius of a circle from the user and compute\n",
    "the area.\n",
    "'''\n",
    "radiusOfCircle = float(input (\"Input the radius of the circle : \"));\n",
    "pi = 3.14;\n",
    "print (\"The area of the circle is \" + str(pi * radiusOfCircle**2));"
   ]
  },
  {
   "cell_type": "code",
   "execution_count": 7,
   "id": "daa86f31",
   "metadata": {},
   "outputs": [
    {
     "name": "stdout",
     "output_type": "stream",
     "text": [
      "Input your First Name : Waleed\n",
      "Input your Last Name : Rehman\n",
      "Rehman Waleed\n"
     ]
    }
   ],
   "source": [
    "'''Question 5\n",
    "Write a Python program which accepts the user's first and last name and print them in\n",
    "reverse order with a space between them.\n",
    "'''\n",
    "firstName = input(\"Input your First Name : \");\n",
    "lastName = input(\"Input your Last Name : \");\n",
    "print (lastName + \" \" + firstName);"
   ]
  },
  {
   "cell_type": "code",
   "execution_count": 12,
   "id": "1172f447",
   "metadata": {},
   "outputs": [
    {
     "name": "stdout",
     "output_type": "stream",
     "text": [
      "Enter First Number: 5\n",
      "Enter Second Number: 5\n",
      "Addition of two number is:  10\n"
     ]
    }
   ],
   "source": [
    "'''Question 6\n",
    "Write a python program which takes two inputs from user and print them addition\n",
    "'''\n",
    "firstNumber = int(input(\"Enter First Number: \"));\n",
    "secondNumber = int(input(\"Enter Second Number: \"));\n",
    "addition = firstNumber + secondNumber;\n",
    "print(\"Addition of two number is: \" ,addition);"
   ]
  },
  {
   "cell_type": "code",
   "execution_count": 21,
   "id": "6942929f",
   "metadata": {},
   "outputs": [
    {
     "name": "stdout",
     "output_type": "stream",
     "text": [
      "Enter Your URDU Marks: 50\n",
      "Enter Your Computer Marks: 50\n",
      "Enter Your ENGLISH Marks: 50\n",
      "Enter Your MATH Marks: 50\n",
      "Enter Your ISLAMIAT Marks: 50\n",
      "C Grade\n"
     ]
    }
   ],
   "source": [
    "'''Question 7\n",
    "Write a program which takes 5 inputs from user for different subject’s marks, total it\n",
    "and generate mark sheet using grades ?\n",
    "'''\n",
    "urdu = int(input(\"Enter Your URDU Marks: \"));\n",
    "computer = int(input(\"Enter Your Computer Marks: \"));\n",
    "english = int(input(\"Enter Your ENGLISH Marks: \"));\n",
    "math = int(input(\"Enter Your MATH Marks: \"));\n",
    "islamiat = int(input(\"Enter Your ISLAMIAT Marks: \"));\n",
    "totalMarks = 500;\n",
    "obtainMarks = urdu + computer + english + math + islamiat;\n",
    "per = obtainMarks * 100 / totalMarks ;\n",
    "if per <= 100 and per >= 80:\n",
    "    print(\"A+ Grade\");\n",
    "elif per < 80 and per >= 70:\n",
    "    print(\"A Grade\");\n",
    "elif per < 70 and per >= 60:\n",
    "    print(\"B Grade\");\n",
    "elif per < 60 and per >= 50:\n",
    "    print(\"C Grade\");\n",
    "elif per <= 50 and per >= 40:\n",
    "    print(\"D Grade\");\n",
    "elif per <= 0:\n",
    "    print(\"Sorry You Enter Invalid Percentage!\");\n",
    "else:\n",
    "    print(\"You are fail\");"
   ]
  },
  {
   "cell_type": "code",
   "execution_count": 17,
   "id": "9bc69e6b",
   "metadata": {},
   "outputs": [
    {
     "name": "stdout",
     "output_type": "stream",
     "text": [
      "Enter a number to check its EVEN or ODD5\n",
      "5 is Odd number\n"
     ]
    }
   ],
   "source": [
    "'''Question 8\n",
    "Write a program which take input from user and identify that the given number is even\n",
    "or odd?\n",
    "'''\n",
    "number = int(input(\"Enter a number to check its EVEN or ODD\"));\n",
    "if (number % 2 == 0):\n",
    "    print(number,\"is Even Number\");\n",
    "elif (number == 0):\n",
    "    print(\"You enter Zero or an invalid number\");\n",
    "else:\n",
    "    print(number, \"is Odd number\");"
   ]
  },
  {
   "cell_type": "code",
   "execution_count": 22,
   "id": "ebec33e6",
   "metadata": {},
   "outputs": [
    {
     "name": "stdout",
     "output_type": "stream",
     "text": [
      "3\n"
     ]
    }
   ],
   "source": [
    "'''Question 9\n",
    "Write a program which print the length of the list?\n",
    "'''\n",
    "a = [1, 1, 2, 3, 5, 8, 13, 21, 34, 55, 89];\n",
    "size = len(a);\n",
    "print(size);"
   ]
  },
  {
   "cell_type": "code",
   "execution_count": 23,
   "id": "fc3ccea2",
   "metadata": {},
   "outputs": [
    {
     "name": "stdout",
     "output_type": "stream",
     "text": [
      "232\n"
     ]
    }
   ],
   "source": [
    "'''Question 10\n",
    "Write a Python program to sum all the numeric items in a list?\n",
    "'''\n",
    "a = [1, 1, 2, 3, 5, 8, 13, 21, 34, 55, 89];\n",
    "totalSum = sum(a);\n",
    "print(totalSum);"
   ]
  },
  {
   "cell_type": "code",
   "execution_count": 24,
   "id": "d4fd1b8f",
   "metadata": {},
   "outputs": [
    {
     "name": "stdout",
     "output_type": "stream",
     "text": [
      "Largest element is: 89\n"
     ]
    }
   ],
   "source": [
    "'''Question 11\n",
    "Write a Python program to get the largest number from a numeric list.\n",
    "'''\n",
    "a = [1, 1, 2, 3, 5, 8, 13, 21, 34, 55, 89];\n",
    "a.sort();\n",
    "print(\"Largest element is:\", a[-1]);"
   ]
  },
  {
   "cell_type": "code",
   "execution_count": 26,
   "id": "019880fb",
   "metadata": {},
   "outputs": [
    {
     "name": "stdout",
     "output_type": "stream",
     "text": [
      "[1, 1, 2, 3]\n"
     ]
    }
   ],
   "source": [
    "'''Question 12\n",
    "Take a list, say for example this one:\n",
    "a = [1, 1, 2, 3, 5, 8, 13, 21, 34, 55, 89]\n",
    "Write a program that prints out all the elements of the list that are less than 5.\n",
    "'''\n",
    "a = [1, 1, 2, 3, 5, 8, 13, 21, 34, 55, 89];\n",
    "appendList  = [];\n",
    "for number in a:\n",
    "    if number < 5:\n",
    "        appendList.append(number)\n",
    "\n",
    "print(appendList)\n",
    "\n"
   ]
  },
  {
   "cell_type": "code",
   "execution_count": null,
   "id": "6bc2a34a",
   "metadata": {},
   "outputs": [],
   "source": []
  }
 ],
 "metadata": {
  "kernelspec": {
   "display_name": "Python 3",
   "language": "python",
   "name": "python3"
  },
  "language_info": {
   "codemirror_mode": {
    "name": "ipython",
    "version": 3
   },
   "file_extension": ".py",
   "mimetype": "text/x-python",
   "name": "python",
   "nbconvert_exporter": "python",
   "pygments_lexer": "ipython3",
   "version": "3.8.8"
  }
 },
 "nbformat": 4,
 "nbformat_minor": 5
}
