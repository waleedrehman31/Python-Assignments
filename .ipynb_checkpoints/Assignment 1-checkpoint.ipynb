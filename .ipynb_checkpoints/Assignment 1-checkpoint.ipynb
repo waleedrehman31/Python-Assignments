{
 "cells": [
  {
   "cell_type": "code",
   "execution_count": 1,
   "id": "91fef7fc",
   "metadata": {},
   "outputs": [
    {
     "name": "stdout",
     "output_type": "stream",
     "text": [
      "Hello Waleed ur Rehman\n"
     ]
    }
   ],
   "source": [
    "print(\"Hello Waleed ur Rehman\");"
   ]
  },
  {
   "cell_type": "code",
   "execution_count": 3,
   "id": "91007ab4",
   "metadata": {},
   "outputs": [
    {
     "name": "stdout",
     "output_type": "stream",
     "text": [
      "waleedrehman31@gmail.com\n"
     ]
    }
   ],
   "source": [
    "print(\"waleedrehman31@gmail.com\");"
   ]
  },
  {
   "cell_type": "code",
   "execution_count": null,
   "id": "adaa5b42",
   "metadata": {},
   "outputs": [],
   "source": []
  }
 ],
 "metadata": {
  "kernelspec": {
   "display_name": "Python 3",
   "language": "python",
   "name": "python3"
  },
  "language_info": {
   "codemirror_mode": {
    "name": "ipython",
    "version": 3
   },
   "file_extension": ".py",
   "mimetype": "text/x-python",
   "name": "python",
   "nbconvert_exporter": "python",
   "pygments_lexer": "ipython3",
   "version": "3.8.8"
  }
 },
 "nbformat": 4,
 "nbformat_minor": 5
}
