{
 "cells": [
  {
   "cell_type": "code",
   "execution_count": 20,
   "id": "45efc2f5",
   "metadata": {},
   "outputs": [
    {
     "name": "stdout",
     "output_type": "stream",
     "text": [
      "B Grade\n"
     ]
    }
   ],
   "source": [
    "english = 85;\n",
    "math = 66;\n",
    "islamiat = 75;\n",
    "totalMarks = 300;\n",
    "obtainMarks = english + math + islamiat;\n",
    "per = obtainMarks * 100 / ;\n",
    "if per <= 100 and per >= 80:\n",
    "    print(\"A+ Grade\");\n",
    "elif per < 80 and per >= 70:\n",
    "    print(\"A Grade\");\n",
    "elif per < 70 and per >= 60:\n",
    "    print(\"B Grade\");\n",
    "elif per < 60 and per >= 50:\n",
    "    print(\"C Grade\");\n",
    "elif per <= 50 and per >= 40:\n",
    "    print(\"D Grade\");\n",
    "elif per <= 0:\n",
    "    print(\"Sorry You Enter Invalid Percentage!\");\n",
    "else:\n",
    "    print(\"You are fail\");"
   ]
  }
 ],
 "metadata": {
  "kernelspec": {
   "display_name": "Python 3",
   "language": "python",
   "name": "python3"
  },
  "language_info": {
   "codemirror_mode": {
    "name": "ipython",
    "version": 3
   },
   "file_extension": ".py",
   "mimetype": "text/x-python",
   "name": "python",
   "nbconvert_exporter": "python",
   "pygments_lexer": "ipython3",
   "version": "3.8.8"
  }
 },
 "nbformat": 4,
 "nbformat_minor": 5
}
